{
 "cells": [
  {
   "cell_type": "markdown",
   "id": "d3bfc191-8885-42ee-b0a0-bbab867c6f9f",
   "metadata": {
    "tags": []
   },
   "source": [
    "# Lab | Flow Control"
   ]
  },
  {
   "cell_type": "markdown",
   "id": "3851fcd1-cf98-4653-9c89-e003b7ec9400",
   "metadata": {},
   "source": [
    "## \n",
    "\n",
    "In the last lab, yExercise: Managing Customer Orders Optimizedou were starting an online store that sells various products. To ensure smooth operations, you developed a program that manages customer orders and inventory.\n",
    "\n",
    "You did so without using flow control. Let's go a step further and improve this code.\n",
    "\n",
    "Follow the steps below to complete the exercise:\n",
    "\n",
    "1. Look at your code from the lab data structures, and improve repeated code with loops.\n",
    "\n",
    "2. Instead of asking the user to input the name of three products that a customer wants to order, do the following:\n",
    "    \n",
    "    a. Prompt the user to enter the name of a product that a customer wants to order.\n",
    "    \n",
    "    b. Add the product name to the \"customer_orders\" set.\n",
    "    \n",
    "    c. Ask the user if they want to add another product (yes/no).\n",
    "    \n",
    "    d. Continue the loop until the user does not want to add another product.\n",
    "\n",
    "3. Instead of updating the inventory by subtracting 1 from the quantity of each product, only do it for  the products that were ordered (those in \"customer_orders\")."
   ]
  },
  {
   "cell_type": "code",
   "execution_count": null,
   "id": "2b3ac94f",
   "metadata": {},
   "outputs": [],
   "source": [
    "# Establecemos la lista de productos y el número disponible de ellos.\n",
    "products = [\"t-shirt\", \"mug\", \"hat\", \"book\", \"keychain\"]\n",
    "inventory = {}\n",
    "\n",
    "for product in products:\n",
    "    quantity = int(input(f\"Ingrese la cantidad de {product} disponible: \"))\n",
    "    inventory [product] = quantity\n",
    "\n",
    "customer_orders = set()\n",
    "\n",
    "\n",
    "# Preguntar al consumidor qué productos quiere\n",
    "\n",
    "\n",
    "option = input(\"¿Desea pedir otro producto? (Y/N)\")\n",
    "\n",
    "while option == \"Y\":\n",
    "    order = input (\"What product do you want to order: \")\n",
    "    if order in products:\n",
    "        customer_orders.add(order)\n",
    "    else:\n",
    "        print(\"El producto no existe, pruebe otra vez\")\n",
    "    if option ==\"N\":\n",
    "        break\n",
    "\n",
    "\n",
    "# 6\n",
    "print(\"\\nProductos solicitados:\", customer_orders)\n",
    "\n",
    "# 7\n",
    "total_products_ordered = len(customer_orders)\n",
    "percentage_ordered = (total_products_ordered / len(products)) * 100\n",
    "order_status = (total_products_ordered, percentage_ordered)\n",
    "\n",
    "\n",
    "# 8 \n",
    "order_status = (total_products_ordered, percentage_ordered)\n",
    "print(\"Orden de las Estadísticas:\")\n",
    "print(f\"Total Productos Ordenados: {order_status[0]}\")\n",
    "print(f\"Porcentaje de Productos Ordenados: {order_status[1]:.2f"
   ]
  }
 ],
 "metadata": {
  "kernelspec": {
   "display_name": "Python 3 (ipykernel)",
   "language": "python",
   "name": "python3"
  },
  "language_info": {
   "codemirror_mode": {
    "name": "ipython",
    "version": 3
   },
   "file_extension": ".py",
   "mimetype": "text/x-python",
   "name": "python",
   "nbconvert_exporter": "python",
   "pygments_lexer": "ipython3",
   "version": "3.9.13"
  }
 },
 "nbformat": 4,
 "nbformat_minor": 5
}
